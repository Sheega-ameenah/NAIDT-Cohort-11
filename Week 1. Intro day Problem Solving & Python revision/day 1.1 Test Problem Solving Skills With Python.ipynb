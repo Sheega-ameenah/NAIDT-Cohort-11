{
  "cells": [
    {
      "attachments": {},
      "cell_type": "markdown",
      "metadata": {
        "id": "CHyy1gp8dDeU"
      },
      "source": [
        "## Challenge One: WORLD WAR II (ENIGMA) **python**\n",
        "\n",
        "DURING WORLD WAR II, THE GERMAN MILITARY UTILIZED THE ENIGMA MACHINE TO ENCRYPT MESSAGES SENT BETWEEN THEIR CAMPS. YOU ARE PART OF AN EXPERT TEAM WITH ALAN TURING PLAYED A CRUCIAL ROLE IN CRACKING THE ENCRYPTED CODE. THE MESSAGES WERE MADE DIFFICULT TO DECIPHER BY FLIPPING THEM BACKWARDS AND INSERTING NON- ALPHABETIC CHARACTERS.\n",
        "\n",
        "### **TASK:**\n",
        "Create a program that will take the encoded message, flip it around, remove any characters that are not a letter or a space, and output the hidden message.\n",
        "\n",
        "### **INPUT FORMAT:**\n",
        "A string of characters that represent the encoded message.\n",
        "\n",
        "### **OUTPUT FORMAT:**\n",
        "A string of character that represent the intended secret message.\n",
        "\n"
      ]
    },
    {
      "cell_type": "code",
      "execution_count": 1,
      "metadata": {
        "id": "qQ07NR-xb3GK"
      },
      "outputs": [],
      "source": [
        "def enigmaDecoder(code):\n",
        "  # your code here\n",
        "  return"
      ]
    },
    {
      "attachments": {},
      "cell_type": "markdown",
      "metadata": {
        "id": "zj8o3z_Pdi0H"
      },
      "source": [
        "_**Expected Outputs**_ \n",
        "\n",
        "```python\n",
        "enigmaDecoder('a#i3r4e2g?i<{N R_I+@%A$C#N') == 'NCAIR Nigeria'\n",
        "\n",
        "enigmaDecoder('n}a/d|n>a\"H) `l|e\"i\\\\n(a!h;t,a@N[') == 'Nathaniel Handan'\n",
        "\n",
        "enigmaDecoder('g=n<i+r>u[T\" *n&a{l]A)') == 'Alan Turing'\n",
        "```"
      ]
    },
    {
      "cell_type": "code",
      "execution_count": null,
      "metadata": {},
      "outputs": [],
      "source": [
        "def enigmaDecoder(encoded_message):\n",
        "    # Flip the message around\n",
        "    flipped_message = encoded_message[::-1]\n",
        "\n",
        "    # Remove non-alphabetic characters and spaces\n",
        "    secret_message = \"\"\n",
        "    for char in flipped_message:\n",
        "        if char.isalpha() or char.isspace():\n",
        "            secret_message += char\n",
        "\n",
        "    return secret_message"
      ]
    },
    {
      "attachments": {},
      "cell_type": "markdown",
      "metadata": {},
      "source": [
        "The enigmaDecoder function takes in the encoded message as a parameter and returns the decoded message. It first flips the message around using string slicing with a step of -1. Then it iterates over each character in the flipped message and checks whether it is an alphabetic character or a space using the isalpha and isspace string methods. If it is, the character is added to the secret_message string. Finally, the function returns the secret_message.\n"
      ]
    },
    {
      "attachments": {},
      "cell_type": "markdown",
      "metadata": {
        "id": "6_3aYo2od-HW"
      },
      "source": [
        "# Exercise: PALINDROME CHECKER"
      ]
    },
    {
      "attachments": {},
      "cell_type": "markdown",
      "metadata": {
        "id": "4llpVmCOeTgI"
      },
      "source": [
        "Your task is to write a Python program that checks whether a given string is a palindrome.\n",
        "\n",
        "A palindrome is a word, phrase, number, or other sequence of characters that reads the same forward and backward. Examples of palindromes include \"racecar\", \"level\", \"deified\", and \"A man, a plan, a canal, Panama!\".\n",
        "\n",
        "### INPUT FORMAT:\n",
        "A string representing the input word or phrase.\n",
        "\n",
        "### OUTPUT FORMAT:\n",
        "A boolean value indicating whether the input is a palindrome (True) or not (False).\n",
        "\n",
        "### EXAMPLE USAGE:\n",
        "```\n",
        "input_string = \"deified\"\n",
        "is_palindrome = check_palindrome(input_string)\n",
        "print(is_palindrome)\n",
        "```"
      ]
    },
    {
      "cell_type": "code",
      "execution_count": null,
      "metadata": {
        "id": "Cg4MhgwtefXN"
      },
      "outputs": [],
      "source": [
        "def check_palindrome(word):\n",
        "  # your code here\n",
        "  return"
      ]
    },
    {
      "attachments": {},
      "cell_type": "markdown",
      "metadata": {
        "id": "FU5LQ78Iezdc"
      },
      "source": [
        "_**Expected Outputs**_ \n",
        "```python\n",
        "check_palindrome(\"deified\") == True\n",
        "check_palindrome(\"cone\") == False\n",
        "check_palindrome(\"racecar\") == True\n",
        "check_palindrome(\"NCAIR\") == False\n",
        "```"
      ]
    }
  ],
  "metadata": {
    "colab": {
      "provenance": []
    },
    "kernelspec": {
      "display_name": "Python 3",
      "name": "python3"
    },
    "language_info": {
      "name": "python"
    }
  },
  "nbformat": 4,
  "nbformat_minor": 0
}
